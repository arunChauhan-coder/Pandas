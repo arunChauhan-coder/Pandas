{
 "cells": [
  {
   "cell_type": "code",
   "execution_count": 1,
   "id": "91b3fbd6",
   "metadata": {},
   "outputs": [],
   "source": [
    "#  Q Replace True and False with 1 and 0"
   ]
  },
  {
   "cell_type": "code",
   "execution_count": 2,
   "id": "1d1c6ce2",
   "metadata": {},
   "outputs": [],
   "source": [
    "import pandas as pd\n",
    "\n",
    "# Create a DataFrame with a column containing True and False values\n",
    "data = {'T/F': [True, False, True, False, True]}\n",
    "\n",
    "df = pd.DataFrame(data)"
   ]
  },
  {
   "cell_type": "code",
   "execution_count": 3,
   "id": "423f25f1",
   "metadata": {},
   "outputs": [
    {
     "data": {
      "text/html": [
       "<div>\n",
       "<style scoped>\n",
       "    .dataframe tbody tr th:only-of-type {\n",
       "        vertical-align: middle;\n",
       "    }\n",
       "\n",
       "    .dataframe tbody tr th {\n",
       "        vertical-align: top;\n",
       "    }\n",
       "\n",
       "    .dataframe thead th {\n",
       "        text-align: right;\n",
       "    }\n",
       "</style>\n",
       "<table border=\"1\" class=\"dataframe\">\n",
       "  <thead>\n",
       "    <tr style=\"text-align: right;\">\n",
       "      <th></th>\n",
       "      <th>T/F</th>\n",
       "    </tr>\n",
       "  </thead>\n",
       "  <tbody>\n",
       "    <tr>\n",
       "      <th>0</th>\n",
       "      <td>True</td>\n",
       "    </tr>\n",
       "    <tr>\n",
       "      <th>1</th>\n",
       "      <td>False</td>\n",
       "    </tr>\n",
       "    <tr>\n",
       "      <th>2</th>\n",
       "      <td>True</td>\n",
       "    </tr>\n",
       "    <tr>\n",
       "      <th>3</th>\n",
       "      <td>False</td>\n",
       "    </tr>\n",
       "    <tr>\n",
       "      <th>4</th>\n",
       "      <td>True</td>\n",
       "    </tr>\n",
       "  </tbody>\n",
       "</table>\n",
       "</div>"
      ],
      "text/plain": [
       "     T/F\n",
       "0   True\n",
       "1  False\n",
       "2   True\n",
       "3  False\n",
       "4   True"
      ]
     },
     "execution_count": 3,
     "metadata": {},
     "output_type": "execute_result"
    }
   ],
   "source": [
    "df"
   ]
  },
  {
   "cell_type": "code",
   "execution_count": 4,
   "id": "9ed7d49d",
   "metadata": {},
   "outputs": [
    {
     "data": {
      "text/html": [
       "<div>\n",
       "<style scoped>\n",
       "    .dataframe tbody tr th:only-of-type {\n",
       "        vertical-align: middle;\n",
       "    }\n",
       "\n",
       "    .dataframe tbody tr th {\n",
       "        vertical-align: top;\n",
       "    }\n",
       "\n",
       "    .dataframe thead th {\n",
       "        text-align: right;\n",
       "    }\n",
       "</style>\n",
       "<table border=\"1\" class=\"dataframe\">\n",
       "  <thead>\n",
       "    <tr style=\"text-align: right;\">\n",
       "      <th></th>\n",
       "      <th>T/F</th>\n",
       "      <th>New_Column</th>\n",
       "    </tr>\n",
       "  </thead>\n",
       "  <tbody>\n",
       "    <tr>\n",
       "      <th>0</th>\n",
       "      <td>True</td>\n",
       "      <td>1</td>\n",
       "    </tr>\n",
       "    <tr>\n",
       "      <th>1</th>\n",
       "      <td>False</td>\n",
       "      <td>0</td>\n",
       "    </tr>\n",
       "    <tr>\n",
       "      <th>2</th>\n",
       "      <td>True</td>\n",
       "      <td>1</td>\n",
       "    </tr>\n",
       "    <tr>\n",
       "      <th>3</th>\n",
       "      <td>False</td>\n",
       "      <td>0</td>\n",
       "    </tr>\n",
       "    <tr>\n",
       "      <th>4</th>\n",
       "      <td>True</td>\n",
       "      <td>1</td>\n",
       "    </tr>\n",
       "  </tbody>\n",
       "</table>\n",
       "</div>"
      ],
      "text/plain": [
       "     T/F  New_Column\n",
       "0   True           1\n",
       "1  False           0\n",
       "2   True           1\n",
       "3  False           0\n",
       "4   True           1"
      ]
     },
     "execution_count": 4,
     "metadata": {},
     "output_type": "execute_result"
    }
   ],
   "source": [
    "df['New_Column'] = df['T/F'].apply(lambda x: 1 if x else 0)\n",
    "\n",
    "# Display the DataFrame\n",
    "df"
   ]
  },
  {
   "cell_type": "code",
   "execution_count": 5,
   "id": "ee9f7069",
   "metadata": {},
   "outputs": [],
   "source": [
    "# 2nd approch\n",
    "\n",
    "df['new']= df['T/F'].astype(int)"
   ]
  },
  {
   "cell_type": "code",
   "execution_count": 6,
   "id": "1d03ffae",
   "metadata": {},
   "outputs": [
    {
     "data": {
      "text/html": [
       "<div>\n",
       "<style scoped>\n",
       "    .dataframe tbody tr th:only-of-type {\n",
       "        vertical-align: middle;\n",
       "    }\n",
       "\n",
       "    .dataframe tbody tr th {\n",
       "        vertical-align: top;\n",
       "    }\n",
       "\n",
       "    .dataframe thead th {\n",
       "        text-align: right;\n",
       "    }\n",
       "</style>\n",
       "<table border=\"1\" class=\"dataframe\">\n",
       "  <thead>\n",
       "    <tr style=\"text-align: right;\">\n",
       "      <th></th>\n",
       "      <th>T/F</th>\n",
       "      <th>New_Column</th>\n",
       "      <th>new</th>\n",
       "    </tr>\n",
       "  </thead>\n",
       "  <tbody>\n",
       "    <tr>\n",
       "      <th>0</th>\n",
       "      <td>True</td>\n",
       "      <td>1</td>\n",
       "      <td>1</td>\n",
       "    </tr>\n",
       "    <tr>\n",
       "      <th>1</th>\n",
       "      <td>False</td>\n",
       "      <td>0</td>\n",
       "      <td>0</td>\n",
       "    </tr>\n",
       "    <tr>\n",
       "      <th>2</th>\n",
       "      <td>True</td>\n",
       "      <td>1</td>\n",
       "      <td>1</td>\n",
       "    </tr>\n",
       "    <tr>\n",
       "      <th>3</th>\n",
       "      <td>False</td>\n",
       "      <td>0</td>\n",
       "      <td>0</td>\n",
       "    </tr>\n",
       "    <tr>\n",
       "      <th>4</th>\n",
       "      <td>True</td>\n",
       "      <td>1</td>\n",
       "      <td>1</td>\n",
       "    </tr>\n",
       "  </tbody>\n",
       "</table>\n",
       "</div>"
      ],
      "text/plain": [
       "     T/F  New_Column  new\n",
       "0   True           1    1\n",
       "1  False           0    0\n",
       "2   True           1    1\n",
       "3  False           0    0\n",
       "4   True           1    1"
      ]
     },
     "execution_count": 6,
     "metadata": {},
     "output_type": "execute_result"
    }
   ],
   "source": [
    "df"
   ]
  },
  {
   "cell_type": "code",
   "execution_count": 7,
   "id": "b3fbbb13",
   "metadata": {},
   "outputs": [],
   "source": [
    "# Qretrieve dataframe col names"
   ]
  },
  {
   "cell_type": "code",
   "execution_count": 8,
   "id": "4743c18e",
   "metadata": {},
   "outputs": [
    {
     "data": {
      "text/plain": [
       "Index(['T/F', 'New_Column', 'new'], dtype='object')"
      ]
     },
     "execution_count": 8,
     "metadata": {},
     "output_type": "execute_result"
    }
   ],
   "source": [
    "df.columns"
   ]
  },
  {
   "cell_type": "code",
   "execution_count": 9,
   "id": "90e546ab",
   "metadata": {},
   "outputs": [
    {
     "name": "stdout",
     "output_type": "stream",
     "text": [
      "T/F\n",
      "New_Column\n",
      "new\n"
     ]
    }
   ],
   "source": [
    "for col in df.columns:\n",
    "    print(col)"
   ]
  },
  {
   "cell_type": "code",
   "execution_count": 10,
   "id": "5ee5f67f",
   "metadata": {},
   "outputs": [
    {
     "data": {
      "text/plain": [
       "['T/F', 'New_Column', 'new']"
      ]
     },
     "execution_count": 10,
     "metadata": {},
     "output_type": "execute_result"
    }
   ],
   "source": [
    "#2nd approch\n",
    "list(df.columns.values)"
   ]
  },
  {
   "cell_type": "code",
   "execution_count": 11,
   "id": "c54dbf0f",
   "metadata": {},
   "outputs": [],
   "source": [
    "# Q Find the row  no. for which a particualar col has max value"
   ]
  },
  {
   "cell_type": "code",
   "execution_count": 12,
   "id": "44d1ba7d",
   "metadata": {},
   "outputs": [
    {
     "name": "stdout",
     "output_type": "stream",
     "text": [
      "      Name  Score\n",
      "0    Alice     85\n",
      "1      Bob     92\n",
      "2  Charlie     78\n",
      "3    David     65\n",
      "4      Eva     88\n"
     ]
    }
   ],
   "source": [
    "import pandas as pd\n",
    "\n",
    "# Create a dictionary with student names and their scores\n",
    "data = {\n",
    "    'Name': ['Alice', 'Bob', 'Charlie', 'David', 'Eva'],\n",
    "    'Score': [85, 92, 78, 65, 88]\n",
    "}\n",
    "\n",
    "# Create a DataFrame from the dictionary\n",
    "student_df = pd.DataFrame(data)\n",
    "\n",
    "# Display the DataFrame\n",
    "print(student_df)\n"
   ]
  },
  {
   "cell_type": "code",
   "execution_count": 13,
   "id": "139ba7ec",
   "metadata": {},
   "outputs": [
    {
     "data": {
      "text/plain": [
       "1"
      ]
     },
     "execution_count": 13,
     "metadata": {},
     "output_type": "execute_result"
    }
   ],
   "source": [
    "student_df['Score'].idxmax()"
   ]
  },
  {
   "cell_type": "code",
   "execution_count": 14,
   "id": "e3e332b6",
   "metadata": {},
   "outputs": [],
   "source": [
    "# Q Find the row  for which a particualar col has max value"
   ]
  },
  {
   "cell_type": "code",
   "execution_count": 15,
   "id": "85e48498",
   "metadata": {},
   "outputs": [
    {
     "data": {
      "text/plain": [
       "Name     Bob\n",
       "Score     92\n",
       "Name: 1, dtype: object"
      ]
     },
     "execution_count": 15,
     "metadata": {},
     "output_type": "execute_result"
    }
   ],
   "source": [
    "student_df.loc[student_df['Score'].idxmax()]"
   ]
  },
  {
   "cell_type": "code",
   "execution_count": 16,
   "id": "f84968f8",
   "metadata": {},
   "outputs": [],
   "source": [
    "# Q select col of particular datatype"
   ]
  },
  {
   "cell_type": "code",
   "execution_count": 17,
   "id": "cc3adf6f",
   "metadata": {},
   "outputs": [],
   "source": [
    "import pandas as pd\n",
    "\n",
    "# Create a list of scores\n",
    "scores = [90, 80, 70, 60]\n",
    "\n",
    "# Create a list of names\n",
    "names = ['John', 'Jane', 'Peter', 'Mary']\n",
    "\n",
    "# Create a boolean column\n",
    "is_passed = [True, False, True, False]\n",
    "\n",
    "# Create a DataFrame\n",
    "df = pd.DataFrame({'Score': scores, 'Name': names, 'Passed': is_passed})"
   ]
  },
  {
   "cell_type": "code",
   "execution_count": 18,
   "id": "88e80436",
   "metadata": {},
   "outputs": [
    {
     "data": {
      "text/html": [
       "<div>\n",
       "<style scoped>\n",
       "    .dataframe tbody tr th:only-of-type {\n",
       "        vertical-align: middle;\n",
       "    }\n",
       "\n",
       "    .dataframe tbody tr th {\n",
       "        vertical-align: top;\n",
       "    }\n",
       "\n",
       "    .dataframe thead th {\n",
       "        text-align: right;\n",
       "    }\n",
       "</style>\n",
       "<table border=\"1\" class=\"dataframe\">\n",
       "  <thead>\n",
       "    <tr style=\"text-align: right;\">\n",
       "      <th></th>\n",
       "      <th>Score</th>\n",
       "      <th>Name</th>\n",
       "      <th>Passed</th>\n",
       "    </tr>\n",
       "  </thead>\n",
       "  <tbody>\n",
       "    <tr>\n",
       "      <th>0</th>\n",
       "      <td>90</td>\n",
       "      <td>John</td>\n",
       "      <td>True</td>\n",
       "    </tr>\n",
       "    <tr>\n",
       "      <th>1</th>\n",
       "      <td>80</td>\n",
       "      <td>Jane</td>\n",
       "      <td>False</td>\n",
       "    </tr>\n",
       "    <tr>\n",
       "      <th>2</th>\n",
       "      <td>70</td>\n",
       "      <td>Peter</td>\n",
       "      <td>True</td>\n",
       "    </tr>\n",
       "    <tr>\n",
       "      <th>3</th>\n",
       "      <td>60</td>\n",
       "      <td>Mary</td>\n",
       "      <td>False</td>\n",
       "    </tr>\n",
       "  </tbody>\n",
       "</table>\n",
       "</div>"
      ],
      "text/plain": [
       "   Score   Name  Passed\n",
       "0     90   John    True\n",
       "1     80   Jane   False\n",
       "2     70  Peter    True\n",
       "3     60   Mary   False"
      ]
     },
     "execution_count": 18,
     "metadata": {},
     "output_type": "execute_result"
    }
   ],
   "source": [
    "df"
   ]
  },
  {
   "cell_type": "code",
   "execution_count": 19,
   "id": "f7e7faff",
   "metadata": {},
   "outputs": [
    {
     "data": {
      "text/html": [
       "<div>\n",
       "<style scoped>\n",
       "    .dataframe tbody tr th:only-of-type {\n",
       "        vertical-align: middle;\n",
       "    }\n",
       "\n",
       "    .dataframe tbody tr th {\n",
       "        vertical-align: top;\n",
       "    }\n",
       "\n",
       "    .dataframe thead th {\n",
       "        text-align: right;\n",
       "    }\n",
       "</style>\n",
       "<table border=\"1\" class=\"dataframe\">\n",
       "  <thead>\n",
       "    <tr style=\"text-align: right;\">\n",
       "      <th></th>\n",
       "      <th>Passed</th>\n",
       "    </tr>\n",
       "  </thead>\n",
       "  <tbody>\n",
       "    <tr>\n",
       "      <th>0</th>\n",
       "      <td>True</td>\n",
       "    </tr>\n",
       "    <tr>\n",
       "      <th>1</th>\n",
       "      <td>False</td>\n",
       "    </tr>\n",
       "    <tr>\n",
       "      <th>2</th>\n",
       "      <td>True</td>\n",
       "    </tr>\n",
       "    <tr>\n",
       "      <th>3</th>\n",
       "      <td>False</td>\n",
       "    </tr>\n",
       "  </tbody>\n",
       "</table>\n",
       "</div>"
      ],
      "text/plain": [
       "   Passed\n",
       "0    True\n",
       "1   False\n",
       "2    True\n",
       "3   False"
      ]
     },
     "execution_count": 19,
     "metadata": {},
     "output_type": "execute_result"
    }
   ],
   "source": [
    "df.select_dtypes(include = ['bool'])"
   ]
  },
  {
   "cell_type": "markdown",
   "id": "ee922891",
   "metadata": {},
   "source": [
    "Q How to check whether a pandas data frame is empty"
   ]
  },
  {
   "cell_type": "code",
   "execution_count": 21,
   "id": "021ae2e5",
   "metadata": {},
   "outputs": [
    {
     "data": {
      "text/plain": [
       "False"
      ]
     },
     "execution_count": 21,
     "metadata": {},
     "output_type": "execute_result"
    }
   ],
   "source": [
    "df.empty"
   ]
  },
  {
   "cell_type": "markdown",
   "id": "cf710cc3",
   "metadata": {},
   "source": [
    "Q How to iterate over pandas row"
   ]
  },
  {
   "cell_type": "code",
   "execution_count": 26,
   "id": "29963379",
   "metadata": {},
   "outputs": [
    {
     "name": "stdout",
     "output_type": "stream",
     "text": [
      "0\n",
      "\n",
      "Score       90\n",
      "Name      John\n",
      "Passed    True\n",
      "Name: 0, dtype: object\n"
     ]
    }
   ],
   "source": [
    "for index,row in df.iterrows():\n",
    "    print(index)\n",
    "    print()\n",
    "    print(row)\n",
    "    break"
   ]
  },
  {
   "cell_type": "code",
   "execution_count": 27,
   "id": "cd6d394c",
   "metadata": {},
   "outputs": [
    {
     "name": "stdout",
     "output_type": "stream",
     "text": [
      "0\n",
      "\n",
      "90\n"
     ]
    }
   ],
   "source": [
    "for index,row in df.iterrows():\n",
    "    print(index)\n",
    "    print()\n",
    "    print(row['Score'])\n",
    "    break"
   ]
  },
  {
   "cell_type": "code",
   "execution_count": 28,
   "id": "b95b8699",
   "metadata": {},
   "outputs": [
    {
     "name": "stdout",
     "output_type": "stream",
     "text": [
      "Score       90\n",
      "Name      John\n",
      "Passed    True\n",
      "Name: 0, dtype: object\n",
      "\n",
      "Score       90\n",
      "Name      John\n",
      "Passed    True\n",
      "Name: 0, dtype: object\n"
     ]
    }
   ],
   "source": [
    "for index,row in df.iterrows():\n",
    "    print(df.loc[index])\n",
    "    print()\n",
    "    print(row)\n",
    "    break"
   ]
  },
  {
   "cell_type": "code",
   "execution_count": 33,
   "id": "a3854fcb",
   "metadata": {},
   "outputs": [
    {
     "name": "stdout",
     "output_type": "stream",
     "text": [
      "90 John\n",
      "80 Jane\n",
      "70 Peter\n",
      "60 Mary\n"
     ]
    }
   ],
   "source": [
    "for index,row in df.iterrows():\n",
    "    print(row['Score'],row['Name'])\n",
    "    "
   ]
  },
  {
   "cell_type": "code",
   "execution_count": null,
   "id": "3dd31b5f",
   "metadata": {},
   "outputs": [],
   "source": []
  },
  {
   "cell_type": "markdown",
   "id": "bc9fd0c8",
   "metadata": {},
   "source": [
    "isin()"
   ]
  },
  {
   "cell_type": "code",
   "execution_count": 42,
   "id": "eb5604a8",
   "metadata": {},
   "outputs": [
    {
     "data": {
      "text/plain": [
       "0    False\n",
       "1     True\n",
       "2     True\n",
       "3    False\n",
       "Name: Score, dtype: bool"
      ]
     },
     "execution_count": 42,
     "metadata": {},
     "output_type": "execute_result"
    }
   ],
   "source": [
    "df['Score'].isin([70,80])"
   ]
  },
  {
   "cell_type": "code",
   "execution_count": 43,
   "id": "8936cb01",
   "metadata": {},
   "outputs": [
    {
     "data": {
      "text/plain": [
       "0     True\n",
       "1    False\n",
       "2    False\n",
       "3     True\n",
       "Name: Score, dtype: bool"
      ]
     },
     "execution_count": 43,
     "metadata": {},
     "output_type": "execute_result"
    }
   ],
   "source": [
    "~df['Score'].isin([70,80]) # not in"
   ]
  },
  {
   "cell_type": "code",
   "execution_count": null,
   "id": "4765112d",
   "metadata": {},
   "outputs": [],
   "source": [
    "# 28 pivot table understand"
   ]
  }
 ],
 "metadata": {
  "kernelspec": {
   "display_name": "Python 3 (ipykernel)",
   "language": "python",
   "name": "python3"
  },
  "language_info": {
   "codemirror_mode": {
    "name": "ipython",
    "version": 3
   },
   "file_extension": ".py",
   "mimetype": "text/x-python",
   "name": "python",
   "nbconvert_exporter": "python",
   "pygments_lexer": "ipython3",
   "version": "3.7.4"
  }
 },
 "nbformat": 4,
 "nbformat_minor": 5
}
